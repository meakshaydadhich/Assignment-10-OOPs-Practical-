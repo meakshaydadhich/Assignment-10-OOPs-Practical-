{
 "cells": [
  {
   "cell_type": "code",
   "execution_count": 1,
   "id": "e551573e",
   "metadata": {},
   "outputs": [],
   "source": [
    "# Q1, Create a vehicle class with an init method having instance variables as name_of_vehicle, max_speed and average_of_vehicle.\n",
    "\n",
    "# Ans. \n",
    "\n",
    "class vehicle:\n",
    "    def __init__(self, name_of_vehicle, max_speed, average_of_vehicle ):\n",
    "        self.name_of_vehicle1 = name_of_vehicle\n",
    "        self.max_speed1 = max_speed \n",
    "        self.average_of_vehicle1 = average_of_vehicle\n",
    "        \n",
    "    def vehicle_details(self):\n",
    "        return self.name_of_vehicle1, self.max_speed1, self.average_of_vehicle1"
   ]
  },
  {
   "cell_type": "code",
   "execution_count": 2,
   "id": "d251a9aa",
   "metadata": {},
   "outputs": [],
   "source": [
    "BMW = vehicle(\"BMW\", 350, 10)"
   ]
  },
  {
   "cell_type": "code",
   "execution_count": 3,
   "id": "021864db",
   "metadata": {},
   "outputs": [
    {
     "data": {
      "text/plain": [
       "('BMW', 350, 10)"
      ]
     },
     "execution_count": 3,
     "metadata": {},
     "output_type": "execute_result"
    }
   ],
   "source": [
    "BMW.vehicle_details()"
   ]
  },
  {
   "cell_type": "code",
   "execution_count": 26,
   "id": "be22faff",
   "metadata": {},
   "outputs": [],
   "source": [
    "# Q2. Create a child class car from the vehicle class created in Que 1, which will inherit the vehicle class. Create a method\n",
    "#     named seating_capacity which takes capacity as an argument and returns the name of the vehicle and its seating capacity.\n",
    "\n",
    "# Ans. \n",
    "\n",
    "class vehicle1:\n",
    "    def __init__(self, name_of_vehicle, max_speed, average_of_vehicle ):\n",
    "        self.name_of_vehicle1 = name_of_vehicle\n",
    "        self.max_speed1 = max_speed \n",
    "        self.average_of_vehicle1 = average_of_vehicle\n",
    "        \n",
    "    def vehicle1_details(self):\n",
    "        return self.name_of_vehicle1, self.max_speed1, self.average_of_vehicle1\n",
    "\n",
    "\n",
    "class Child_car(vehicle1):\n",
    "    \n",
    "    def __init__(self,name_of_vehicle, max_speed, average_of_vehicle, capacity):\n",
    "        super().__init__(name_of_vehicle, max_speed, average_of_vehicle)\n",
    "        self.capacity1 = capacity\n",
    "    \n",
    "    def seating_capacity(self):\n",
    "        return self.name_of_vehicle1 , self.capacity1"
   ]
  },
  {
   "cell_type": "code",
   "execution_count": 27,
   "id": "938a3e43",
   "metadata": {},
   "outputs": [],
   "source": [
    "Child_name_obj = Child_car(\"BMW\", 320, 10, 6)"
   ]
  },
  {
   "cell_type": "code",
   "execution_count": 30,
   "id": "6f60cbd5",
   "metadata": {},
   "outputs": [
    {
     "data": {
      "text/plain": [
       "('BMW', 6)"
      ]
     },
     "execution_count": 30,
     "metadata": {},
     "output_type": "execute_result"
    }
   ],
   "source": [
    "print(Child_name_obj.seating_capacity())"
   ]
  },
  {
   "cell_type": "code",
   "execution_count": 40,
   "id": "2811820b",
   "metadata": {},
   "outputs": [],
   "source": [
    "# Q-3 What is multiple inheritance? Write a python code to demonstrate multiple inheritance.\n",
    "\n",
    "# Ans. If a child class is inheriting the properties of a single other class, we call it single inheritance. However, if a child\n",
    "#      class inherits from more than one class, i.e. this child class is derived from multiple classes, we call it multiple \n",
    "#      inheritance in Python.\n",
    "\n",
    "class parent1:\n",
    "    \n",
    "    def test1(self):\n",
    "        return \"This is my parent1 class\""
   ]
  },
  {
   "cell_type": "code",
   "execution_count": 41,
   "id": "68b3bdc1",
   "metadata": {},
   "outputs": [],
   "source": [
    "class parent2:\n",
    "    \n",
    "    def test2(self):\n",
    "        return \"This is my parent2 Class\""
   ]
  },
  {
   "cell_type": "code",
   "execution_count": 42,
   "id": "7b23f23d",
   "metadata": {},
   "outputs": [],
   "source": [
    "class child(parent1, parent2):\n",
    "    pass"
   ]
  },
  {
   "cell_type": "code",
   "execution_count": 43,
   "id": "85aa412a",
   "metadata": {},
   "outputs": [],
   "source": [
    "child_obj = child()"
   ]
  },
  {
   "cell_type": "code",
   "execution_count": 44,
   "id": "0150fb43",
   "metadata": {},
   "outputs": [
    {
     "data": {
      "text/plain": [
       "'This is my parent1 class'"
      ]
     },
     "execution_count": 44,
     "metadata": {},
     "output_type": "execute_result"
    }
   ],
   "source": [
    "child_obj.test1()"
   ]
  },
  {
   "cell_type": "code",
   "execution_count": 45,
   "id": "7bd8a7de",
   "metadata": {},
   "outputs": [
    {
     "data": {
      "text/plain": [
       "'This is my parent2 Class'"
      ]
     },
     "execution_count": 45,
     "metadata": {},
     "output_type": "execute_result"
    }
   ],
   "source": [
    "child_obj.test2()"
   ]
  },
  {
   "cell_type": "code",
   "execution_count": 86,
   "id": "5f1a0575",
   "metadata": {},
   "outputs": [],
   "source": [
    "# Q-4 What are getter and setter in python? Create a class and create a getter and a setter method in this class.\n",
    "\n",
    "# Ans. Getters: These are the methods used in Object-Oriented Programming (OOPS) which helps to access the private attributes\n",
    "#      from a class. Setters: These are the methods used in OOPS feature which helps to set the value to private attributes in \n",
    "#      a class.\n",
    "\n",
    "class car1:\n",
    "    def __init__(self, name, speed):\n",
    "        self.__Name = name\n",
    "        self.__Speed = 0\n",
    "        \n",
    "    def setter(self, speed):\n",
    "        if speed < 0:\n",
    "            self.__Speed = 0\n",
    "        \n",
    "        else:\n",
    "            self.__Speed = speed\n",
    "    \n",
    "    def getter(self):\n",
    "        return self.__Speed\n",
    "    \n",
    "     # Setter for Name\n",
    "    def set_name(self, name):\n",
    "        self.__name = name\n",
    "\n",
    "    # Getter for Name\n",
    "    def get_name(self):\n",
    "        return self.__name"
   ]
  },
  {
   "cell_type": "code",
   "execution_count": 87,
   "id": "2d7ef762",
   "metadata": {},
   "outputs": [],
   "source": [
    "car1_obj = car1(\"BMW\", -9) "
   ]
  },
  {
   "cell_type": "code",
   "execution_count": 88,
   "id": "908ed430",
   "metadata": {},
   "outputs": [
    {
     "data": {
      "text/plain": [
       "0"
      ]
     },
     "execution_count": 88,
     "metadata": {},
     "output_type": "execute_result"
    }
   ],
   "source": [
    "car1_obj.getter()"
   ]
  },
  {
   "cell_type": "code",
   "execution_count": 89,
   "id": "900c1771",
   "metadata": {},
   "outputs": [],
   "source": [
    "car1_obj.setter(320)"
   ]
  },
  {
   "cell_type": "code",
   "execution_count": 90,
   "id": "55b099ba",
   "metadata": {},
   "outputs": [
    {
     "data": {
      "text/plain": [
       "320"
      ]
     },
     "execution_count": 90,
     "metadata": {},
     "output_type": "execute_result"
    }
   ],
   "source": [
    "car1_obj.getter()"
   ]
  },
  {
   "cell_type": "code",
   "execution_count": 91,
   "id": "b3e96e61",
   "metadata": {},
   "outputs": [],
   "source": [
    "car1_obj.set_name(\"Ferrari\")"
   ]
  },
  {
   "cell_type": "code",
   "execution_count": 92,
   "id": "b795e7bc",
   "metadata": {},
   "outputs": [
    {
     "data": {
      "text/plain": [
       "'Ferrari'"
      ]
     },
     "execution_count": 92,
     "metadata": {},
     "output_type": "execute_result"
    }
   ],
   "source": [
    "car1_obj.get_name()"
   ]
  },
  {
   "cell_type": "code",
   "execution_count": 93,
   "id": "14f3805e",
   "metadata": {},
   "outputs": [
    {
     "name": "stdout",
     "output_type": "stream",
     "text": [
      "This is my syllabus for data science\n",
      "hi\n",
      "This is my syllabus for web dev\n"
     ]
    }
   ],
   "source": [
    "# Q-5 What is method overriding in python? Write a python code to demonstrate method overriding.\n",
    "\n",
    "# Ans. Method overriding occurs when a subclass (child class) has a method with the same name, return type, and parameters as\n",
    "#      a method in its superclass (parent class). The method in the subclass overrides the method in the superclass, meaning\n",
    "#      that the method in the subclass will be called when an instance of the subclass is used, instead of the method from the \n",
    "#      superclass.\n",
    "\n",
    "#      Key Points:-\n",
    "#      Method overriding allows a subclass to provide a specific implementation of a method that is already defined by its\n",
    "#      superclass.\n",
    "#      It is used to change or extend the behavior of inherited methods.\n",
    "\n",
    "# Example:\n",
    "class data_science:\n",
    "    \n",
    "    def syllabus(self):\n",
    "        print(\"This is my syllabus for data science\")\n",
    "\n",
    "class web_dev(data_science):\n",
    "    \n",
    "    def syllabus(self):\n",
    "        print(\"This is my syllabus for web dev\")\n",
    "        \n",
    "def class_parcer(class_object):\n",
    "    for i in class_object:\n",
    "        i.syllabus()\n",
    "        \n",
    "data_science = data_science()\n",
    "web_dev = web_dev()\n",
    "\n",
    "class_object = [data_science , web_dev]\n",
    "\n",
    "class_parcer(class_object)"
   ]
  },
  {
   "cell_type": "code",
   "execution_count": null,
   "id": "be18692b",
   "metadata": {},
   "outputs": [],
   "source": []
  }
 ],
 "metadata": {
  "kernelspec": {
   "display_name": "Python 3 (ipykernel)",
   "language": "python",
   "name": "python3"
  },
  "language_info": {
   "codemirror_mode": {
    "name": "ipython",
    "version": 3
   },
   "file_extension": ".py",
   "mimetype": "text/x-python",
   "name": "python",
   "nbconvert_exporter": "python",
   "pygments_lexer": "ipython3",
   "version": "3.10.9"
  }
 },
 "nbformat": 4,
 "nbformat_minor": 5
}
